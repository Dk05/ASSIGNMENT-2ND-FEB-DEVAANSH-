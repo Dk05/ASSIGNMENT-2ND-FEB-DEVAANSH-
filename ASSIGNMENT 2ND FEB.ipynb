{
 "cells": [
  {
   "cell_type": "code",
   "execution_count": 1,
   "id": "6de6a534",
   "metadata": {},
   "outputs": [
    {
     "name": "stdout",
     "output_type": "stream",
     "text": [
      "HELLO WORLD\n",
      "HELLO WORLD\n",
      "HELLO WORLD\n",
      "HELLO WORLD\n",
      "HELLO WORLD\n",
      "HELLO PYTHON\n",
      "HELLO PYTHON\n",
      "HELLO PYTHON\n",
      "ENTER I VALUE : 13\n",
      "13\n",
      "12\n",
      "11\n",
      "10\n",
      "THE LANGUAGE IS PYTHON\n"
     ]
    }
   ],
   "source": [
    "#ANS 1 :\n",
    "\"for loop is used when we want to iterate a particular no. or string in a loop, like lets take an example I want to print     hello world 5 times in a loop then hello python for 5 times here we will use for loop\"\n",
    "\n",
    "for i in range(0,5):\n",
    "    print(\"HELLO WORLD\")\n",
    "for i in range(0,3):\n",
    "    print(\"HELLO PYTHON\")    \n",
    "\n",
    "\"WHILE LOOP is used when I want to enter a condition but to do that I have to make sure that the statement passed in while loop shold be TRUE so the program will enter the condition and print the desired output whenever the condition is TRUE rather the else block of code will be executed\"\n",
    "\n",
    "i = int(input(\"ENTER I VALUE : \"))\n",
    "while(i >= 10):\n",
    "    print(i)\n",
    "    i -= 1\n",
    "else:\n",
    "    print(\"THE LANGUAGE IS PYTHON\")"
   ]
  },
  {
   "cell_type": "code",
   "execution_count": 2,
   "id": "6971f787",
   "metadata": {},
   "outputs": [
    {
     "name": "stdout",
     "output_type": "stream",
     "text": [
      "1\n",
      "2\n",
      "3\n",
      "4\n",
      "5\n",
      "6\n",
      "7\n",
      "8\n",
      "9\n",
      "10\n",
      "------SUM AND PRODUCT OF NUMBERS------\n",
      "THE SUM IS :  55\n",
      "THE PRODUCT IS :  3628800\n"
     ]
    }
   ],
   "source": [
    "#ANS 2 :\n",
    "a = []\n",
    "c = []\n",
    "for i in range(1,11):\n",
    "    b = int(input())\n",
    "    a.append(b)\n",
    "\n",
    "print(\"------SUM AND PRODUCT OF NUMBERS------\")\n",
    "Sum = 0\n",
    "PROD = 1\n",
    "for x in range(1, b+1):\n",
    "    Sum = Sum + x\n",
    "    PROD = PROD * x\n",
    "print(\"THE SUM IS : \", Sum)\n",
    "print(\"THE PRODUCT IS : \", PROD)\n"
   ]
  },
  {
   "cell_type": "code",
   "execution_count": null,
   "id": "d3bab93b",
   "metadata": {},
   "outputs": [
    {
     "name": "stdout",
     "output_type": "stream",
     "text": [
      "--------- ENTER ELECTRICITY UNITS --------\n"
     ]
    }
   ],
   "source": [
    "#ANS 3 :\n",
    "a = []\n",
    "#c = []\n",
    "print(\"--------- ENTER ELECTRICITY UNITS --------\")\n",
    "for i in range(1,301):\n",
    "    b = int(input())\n",
    "    a.append(b)\n",
    "\n",
    "print(\"------CHARGES AS PER THE UNITS CONSUMED------\")\n",
    "if(b <= 100):\n",
    "    print(\"THE CHARGE WILL BE ₹4.5\")\n",
    "elif(b <= 200):\n",
    "    print(\"THE CHARGE WILL BE ₹6\")\n",
    "elif(b <= 300):\n",
    "    print(\"THE CHARGE WILL BE ₹10\")\n",
    "elif(b > 300):\n",
    "    print(\"THE CHARGE WILL BE ₹20\")\n",
    "elif(b == 310):\n",
    "    print(\"THE TOTAL BILL IS ₹2250\")\n",
    "else:\n",
    "    print(\"WRONG INPUT\")"
   ]
  },
  {
   "cell_type": "code",
   "execution_count": null,
   "id": "70861f11",
   "metadata": {},
   "outputs": [],
   "source": [
    "#ANS 4 :\n",
    "a = []\n",
    "c = []\n",
    "for i in range(1,101):\n",
    "    b = int(input())\n",
    "    a.append(b)\n",
    "\n",
    "print(\"------CUBE OF NUMBERS------\")\n",
    "CUBE = 1\n",
    "for x in range(1, b+1):\n",
    "    CUBE = x**3\n",
    "print(\"THE CUBE IS : \", CUBE)\n"
   ]
  },
  {
   "cell_type": "code",
   "execution_count": null,
   "id": "e4220e8d",
   "metadata": {},
   "outputs": [],
   "source": [
    "#ANS 5 :\n",
    "a = \"I WANT TO BECOME DATA SCIENTIST\"\n",
    "count = 0\n",
    "i = 0\n",
    "a1 = a.lower()\n",
    "for i in range(len(a1)):\n",
    "    if (\"a\" in a1[i] or \"e\" in a1[i] or \"i\" in a1[i] or \"o\" in a1[i] or \"u\" in a1[i] ):\n",
    "        count = count + 1\n",
    "print(\"NUMBER OF VOWELS IN THE GIVEN STRING IS : \", count)"
   ]
  },
  {
   "cell_type": "code",
   "execution_count": null,
   "id": "7a622721",
   "metadata": {},
   "outputs": [],
   "source": []
  }
 ],
 "metadata": {
  "kernelspec": {
   "display_name": "Python 3 (ipykernel)",
   "language": "python",
   "name": "python3"
  },
  "language_info": {
   "codemirror_mode": {
    "name": "ipython",
    "version": 3
   },
   "file_extension": ".py",
   "mimetype": "text/x-python",
   "name": "python",
   "nbconvert_exporter": "python",
   "pygments_lexer": "ipython3",
   "version": "3.11.3"
  }
 },
 "nbformat": 4,
 "nbformat_minor": 5
}
